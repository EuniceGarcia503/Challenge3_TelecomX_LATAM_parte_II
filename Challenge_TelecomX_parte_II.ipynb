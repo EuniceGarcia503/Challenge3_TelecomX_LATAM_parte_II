{
  "nbformat": 4,
  "nbformat_minor": 0,
  "metadata": {
    "colab": {
      "provenance": [],
      "authorship_tag": "ABX9TyORvrDwwEkO+UfUvUH6f6Ys"
    },
    "kernelspec": {
      "name": "python3",
      "display_name": "Python 3"
    },
    "language_info": {
      "name": "python"
    }
  },
  "cells": [
    {
      "cell_type": "markdown",
      "source": [
        "![Banner challenge](https://raw.githubusercontent.com/EuniceGarcia503/Challenge3_TelecomX_LATAM_parte_II/refs/heads/main/Imagenes_TelecomX_Parte2/Banner%20de%20Challenge%20parte%202.png)"
      ],
      "metadata": {
        "id": "tRsz3gKtKpAt"
      }
    },
    {
      "cell_type": "markdown",
      "source": [
        "#💾 **Extracción de datos tratados.**"
      ],
      "metadata": {
        "id": "3bNIWNShLBe9"
      }
    },
    {
      "cell_type": "markdown",
      "source": [
        "---\n",
        "\n",
        "![Banner preparación datos](https://raw.githubusercontent.com/EuniceGarcia503/Challenge3_TelecomX_LATAM_parte_II/refs/heads/main/Imagenes_TelecomX_Parte2/Banner_%20Secci%C3%B3n_%20preparaci%C3%B3n.png)\n",
        "\n",
        "---"
      ],
      "metadata": {
        "id": "2DqHJ4UMRC97"
      }
    },
    {
      "cell_type": "code",
      "execution_count": null,
      "metadata": {
        "id": "9ly2-mcdX3la"
      },
      "outputs": [],
      "source": []
    }
  ]
}